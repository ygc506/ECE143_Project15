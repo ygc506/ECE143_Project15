{
 "cells": [
  {
   "cell_type": "code",
   "execution_count": null,
   "metadata": {},
   "outputs": [],
   "source": [
    "# read the data\n",
    "\n",
    "from os import walk\n",
    "f =[]\n",
    "\n",
    "# get all filenames in the directory\n",
    "for (a, b, filenames) in walk(\"data/\"):\n",
    "     f.extend(filenames) \n",
    "     break\n",
    "print (filenames)\n",
    "\n",
    "# split the filenames\n",
    "data_contain = {'name': [], 'rank_all': [], 'death_all': [], 'rank_0_14': [], 'death_0_14':[], 'rank_15_24': [],\n",
    "                      'death_15_24': [], 'rank_25_34': [], 'death_25_34': [], 'rank_35_44': [], 'death_35_44': [], \n",
    "                      'rank_45_54': [],'death_45_54': [], 'rank_55_64': [], 'death_55_64': [], 'rank_65_74': [], \n",
    "                      'death_65_74': [], 'rank_75': [], 'death_75+': [], 'gender':[],'state':[]}\n",
    "\n",
    "all_data = pd.DataFrame(data_contain) \n",
    "# read the datasheet\n",
    "gender =['female','male','both']\n",
    "\n",
    "# add the population to the file, population= dict type \n",
    "population = {}; \n",
    "\n",
    "for g in gender:\n",
    "    population[g] = pd.read_excel(\"population.xlsx\",sheet_name=g)\n",
    "    population[g].set_index(\"state\", drop=True, append=False,inplace=True)\n",
    "\n",
    "for  filename in filenames:\n",
    "    if filename.split(\".\")[0] == '':\n",
    "        continue\n",
    "    path = \"data/\"+ filename\n",
    "\n",
    "    # read the state data\n",
    "    for g in gender:\n",
    "        state_name = filename.split(\".\")[0] # generate state name by using filename {statename.xlsx}\n",
    "        state_data = pd.read_excel (path,sheet_name=g) # read state data\n",
    "        disease_number = state_data.shape[0] # the row number for this state data = the number of the disease\n",
    "        state_data['gender'] = [g]* disease_number \n",
    "        state_data['state'] = [state_name]* disease_number\n",
    "        \n",
    "        state_population= pd.DataFrame(np.repeat((population[g].loc[[state_name],:]).values,disease_number,axis=0)) # read the population data\n",
    "        state_population.columns = population[g].columns\n",
    "        state_data = state_data.join(state_population) # join state_data with population data\n",
    "        \n",
    "        all_data = all_data.append (state_data,ignore_index = True, sort=None)\n",
    "        \n",
    "# save to csv\n",
    "all_data.to_csv(\"state_population.csv\", index=False)\n",
    "\n"
   ]
  }
 ],
 "metadata": {
  "kernelspec": {
   "display_name": "Python 3",
   "language": "python",
   "name": "python3"
  },
  "language_info": {
   "codemirror_mode": {
    "name": "ipython",
    "version": 3
   },
   "file_extension": ".py",
   "mimetype": "text/x-python",
   "name": "python",
   "nbconvert_exporter": "python",
   "pygments_lexer": "ipython3",
   "version": "3.6.8"
  }
 },
 "nbformat": 4,
 "nbformat_minor": 2
}
